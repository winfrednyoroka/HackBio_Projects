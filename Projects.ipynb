{
 "cells": [
  {
   "cell_type": "markdown",
   "metadata": {},
   "source": [
    "# Projects"
   ]
  },
  {
   "cell_type": "markdown",
   "metadata": {},
   "source": [
    "Project1:\n",
    "i)\tWrite a python script that uses esearch.fcgi to do a search at the NCBI and download all the human refseq protein accessions for GSTM* Use the search term: GSTM*+AND+human[organism]+AND+srcdb_refseq[prop] and the strategy shown in, slide 33.\n",
    "\n",
    "a.\tCombine the esummary strategy to get protein lengths with the XML based esearch strategy (handout, slide 33) to print the Accession ['Caption'], length ['Length'], and description ['Title'] for each of the sequences found by the search.\n",
    "\n",
    "b.\tUse regular expressions to restrict the print out to Accessions from proteins that contain \"glutathione\" in their ['Title'], and do not contain PREDICTED in their ['Title'].\n",
    "\n",
    "ii)\tExtract all gene, isoform, coding exons, 5'UTR and 3'UTR coordinates in BED format from the following GTF file:\n",
    "http://ftp.ebi.ac.uk/pub/databases/gencode/Gencode_human/release_33/gencode.v33.annotation.gtf.gz\n",
    "\n",
    "For 5' and 3' UTR regions there should be two versions\n",
    "1) Gene level\n",
    "2) Isoform level\n",
    "\n",
    "For gene level data include all UTRs of all the isoforms and merge any overlapping isoform UTRs.\n",
    "gtfjavabioinformatics\n"
   ]
  },
  {
   "cell_type": "raw",
   "metadata": {},
   "source": [
    "Project 2:\n",
    "\n",
    "You are required to write a Python program for checking account balances in a bank.  \n",
    "When a customer deposits money into their account the new account balance is output on the screen.  When a customer attempts to withdraw more than what they have in the account they are given a message that they are attempting to overdraw their account.  Once a customer attempts to overdraw three times the system will advise them to visit the customer care representative to open a current account which allows for overdraft facility.  The program should also allow the customer to query their balance.  Write the program showing all necessary constructors that will implement these requirements.  Test your program using the following data (assume minimum balance is KShs 5000):\n"
   ]
  },
  {
   "cell_type": "raw",
   "metadata": {},
   "source": [
    "Project 3:\n",
    "You have been provided with a BED file lamina.bed with the following format:\n",
    "\n",
    "chr startPos stop_Pos read_quality\n",
    "\n",
    "chr1 11323785 11617177 0.86217008797654\n",
    "\n",
    "Write a program parse_bed.py that requests for a BED file from the user, and for each chromosome, calculates the number of reads and the average read quality.\n",
    "\n",
    "The program should load a menu below:\n",
    "\n",
    "Select an option\n",
    "\n",
    "  [R] Display read counts in each Chromosome\n",
    "  \n",
    "  [D] Display the average read quality for each chromosome\n",
    "  \n",
    "  [X] Exit\n",
    ":\n",
    "\n",
    "OptionR: When selected, the program should print the read counts for each chromosome to the console, as shown below for the first five chromosomes.\n",
    "\n",
    "Chr     count\n",
    "\n",
    "chr1    101\n",
    "\n",
    "chr2    100\n",
    "\n",
    "chr3    106\n",
    "\n",
    "chr4    94\n",
    "\n",
    "chr5    93\n",
    "  ...\n",
    "  \n",
    "The read counts should also be printed to file. Bonus points if you can also display the chromosome counts ordered by the read counts in descending order.\n",
    "\n",
    "OptionD: When selected, the program should calculate the average read quality for each chromosome, and display the results to console as well as write to file:\n",
    "\n",
    "chr1    0.906\n",
    "\n",
    "chr2    0.901\n",
    "\n",
    "chr3    0.904\n",
    "\n",
    "chr4    0.914\n",
    "\n",
    "chr5    0.913\n",
    "...\n",
    "\n",
    "After each option, the program should return the user to the main menu, until the user enters X.\n"
   ]
  },
  {
   "cell_type": "code",
   "execution_count": null,
   "metadata": {},
   "outputs": [],
   "source": []
  },
  {
   "cell_type": "markdown",
   "metadata": {},
   "source": [
    "# Others"
   ]
  },
  {
   "cell_type": "raw",
   "metadata": {},
   "source": [
    "1.\tUsing the concept of dictionaries. A file concordance tracks the unique words in a file and their frequencies. Write a program that displays a concordance for a file. The program should output the unique words and their frequencies in alphabetical order. "
   ]
  },
  {
   "cell_type": "raw",
   "metadata": {},
   "source": [
    "2.\tAn employee’s total weekly pay equals the hourly wage multiplied by the total number of regular hours plus any overtime pay. Overtime pay equals the total overtime hours multiplied by 1.5 times the hourly wage. Write a program that takes as inputs the hourly wage, total regular hours, and total overtime hours and displays an employee’s total weekly pay. "
   ]
  },
  {
   "cell_type": "raw",
   "metadata": {},
   "source": [
    "3.\tWrite a script named dif.py. This script should prompt the user for the names of two text files and compare the contents of the two files to see if they are the same. If they are, the script should simply output “Yes”. If they are not, the script should output “No”, followed by the first lines of each file that differ from each other. The input loop should read and compare lines from each file. The loop should break as soon as a pair of different lines is found. "
   ]
  },
  {
   "cell_type": "raw",
   "metadata": {},
   "source": [
    "\n",
    "4.\tWrite a script named copyfile.py. This script should prompt the user for the names of two text files. The contents of the first file should be input and written to the second file. \n"
   ]
  },
  {
   "cell_type": "raw",
   "metadata": {},
   "source": [
    "5.\tThe First-Time Home Buyer Tax Credit\n",
    "Develop and test a Python program that determines if an individual qualifies for a government First-Time Home Buyer Tax Credit of $8,000. The credit was only available to those that (a) bought a house that cost less than $800,000, (b) had a combined income of under $225,000 and (c) had not owned a primary resi- dence in the last three years. \n"
   ]
  },
  {
   "cell_type": "raw",
   "metadata": {},
   "source": [
    "6.\tLeap Years to Come\n",
    "Develop and test a Python program that displays future leap years, starting with the first occurring leap year from the current year, until a final year entered by the user. \n"
   ]
  },
  {
   "cell_type": "code",
   "execution_count": null,
   "metadata": {},
   "outputs": [],
   "source": []
  }
 ],
 "metadata": {
  "kernelspec": {
   "display_name": "Python 3",
   "language": "python",
   "name": "python3"
  },
  "language_info": {
   "codemirror_mode": {
    "name": "ipython",
    "version": 3
   },
   "file_extension": ".py",
   "mimetype": "text/x-python",
   "name": "python",
   "nbconvert_exporter": "python",
   "pygments_lexer": "ipython3",
   "version": "3.8.5"
  }
 },
 "nbformat": 4,
 "nbformat_minor": 4
}
